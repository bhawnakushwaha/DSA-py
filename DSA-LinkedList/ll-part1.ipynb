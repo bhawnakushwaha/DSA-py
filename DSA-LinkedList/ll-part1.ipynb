{
 "cells": [
  {
   "cell_type": "markdown",
   "id": "70d7eaf1",
   "metadata": {},
   "source": [
    "#### linked list \n",
    "### 1-D"
   ]
  }
 ],
 "metadata": {
  "language_info": {
   "name": "python"
  }
 },
 "nbformat": 4,
 "nbformat_minor": 5
}
