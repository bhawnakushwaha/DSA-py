{
 "cells": [
  {
   "cell_type": "markdown",
   "id": "c03d7411",
   "metadata": {},
   "source": [
    "## String - DSA"
   ]
  },
  {
   "cell_type": "markdown",
   "id": "9a8a732e",
   "metadata": {},
   "source": [
    "#### Remove outer parenthese [Leetcode - 1021]"
   ]
  },
  {
   "cell_type": "code",
   "execution_count": null,
   "id": "453a503d",
   "metadata": {},
   "outputs": [
    {
     "name": "stdout",
     "output_type": "stream",
     "text": [
      "()()()\n"
     ]
    }
   ],
   "source": [
    "# using Stack  tc = O(n) sc = O(n)-> using stack.\n",
    "s = \"(())(()())\"\n",
    "def removeOuterParentheses(s):\n",
    "    stack = []\n",
    "    result = []\n",
    "\n",
    "    for char in s:\n",
    "        if char == '(':\n",
    "            if stack:  # not outermost - i.e stack  is not empty, it has\n",
    "                result.append(char)\n",
    "            stack.append('(')\n",
    "        else:  # char == ')'\n",
    "            stack.pop()\n",
    "            if stack:  # not outermost\n",
    "                result.append(char)\n",
    "\n",
    "    return ''.join(result)\n",
    "print(removeOuterParentheses(s))\n"
   ]
  },
  {
   "cell_type": "code",
   "execution_count": null,
   "id": "b6f99274",
   "metadata": {},
   "outputs": [
    {
     "name": "stdout",
     "output_type": "stream",
     "text": [
      "()()()\n"
     ]
    }
   ],
   "source": [
    "# optimal solution - using counter  - tc = O(n) sc = O(1) \n",
    "s = \"(())(()())\"\n",
    "def removeOuterParentheses(s):\n",
    "    result = []\n",
    "    depth = 0\n",
    "\n",
    "    for char in s:\n",
    "        if char == '(':\n",
    "            if depth > 0:\n",
    "                result.append(char)\n",
    "            depth += 1\n",
    "        else:  # char == ')'\n",
    "            depth -= 1\n",
    "            if depth > 0:\n",
    "                result.append(char)\n",
    "\n",
    "    return ''.join(result)\n",
    "print(removeOuterParentheses(s))"
   ]
  },
  {
   "cell_type": "markdown",
   "id": "e0a298df",
   "metadata": {},
   "source": [
    "### largest odd number in the string.\n",
    "##### return the odd number substing [Leetcodce- 1903]"
   ]
  },
  {
   "cell_type": "code",
   "execution_count": 1,
   "id": "03f6857f",
   "metadata": {},
   "outputs": [
    {
     "name": "stdout",
     "output_type": "stream",
     "text": [
      "37425\n"
     ]
    }
   ],
   "source": [
    "def largestOddNumber(num):\n",
    "    # start at the end \n",
    "    for i in range(len(num)-1, -1, -1):\n",
    "        if int(num[i]) % 2 ==1:\n",
    "            return num[:i+1]\n",
    "    return \"\"\n",
    "\n",
    "num = \"37425\"\n",
    "print(largestOddNumber(num))"
   ]
  },
  {
   "cell_type": "markdown",
   "id": "a2e0ab68",
   "metadata": {},
   "source": [
    "##### Write a function to find the longest common prefix string amongst an array of strings. If there is no common prefix, return an empty string \"\". [14 ]\n"
   ]
  },
  {
   "cell_type": "code",
   "execution_count": 2,
   "id": "aaea1955",
   "metadata": {},
   "outputs": [
    {
     "name": "stdout",
     "output_type": "stream",
     "text": [
      "fl\n"
     ]
    }
   ],
   "source": [
    "def longestCommonPrefix(strs):\n",
    "    if not strs:\n",
    "        return \"\"\n",
    "    for i in range(len(strs[0])):\n",
    "        ch = strs[0][i]\n",
    "        for string in strs[1:]:\n",
    "            if i == len(string) or string[i] != ch:\n",
    "                return strs[0][:i]\n",
    "    return strs[0]\n",
    "\n",
    "strs = [\"flower\", \"flow\", \"flight\"]\n",
    "print(longestCommonPrefix(strs))"
   ]
  },
  {
   "cell_type": "markdown",
   "id": "1d74d5dd",
   "metadata": {},
   "source": [
    "#### Isomorphic Strings [205]\n",
    "###### Two strings s and t are isomorphic if the characters in s can be replaced to get t. "
   ]
  },
  {
   "cell_type": "code",
   "execution_count": 3,
   "id": "f607d941",
   "metadata": {},
   "outputs": [
    {
     "name": "stdout",
     "output_type": "stream",
     "text": [
      "True\n",
      "True\n"
     ]
    }
   ],
   "source": [
    "def isIsomorphic(s, t):\n",
    "    if len(s) != len(t):\n",
    "        return False\n",
    "    \n",
    "    s_map = {}\n",
    "    t_map = {}\n",
    "\n",
    "    for ch1, ch2 in zip(s,t):\n",
    "        if ch1 in s_map:\n",
    "            if s_map[ch1] != ch2:\n",
    "                return False\n",
    "        else:\n",
    "            s_map[ch1] = ch2\n",
    "        \n",
    "        if ch2 in t_map:\n",
    "            if t_map[ch2] != ch1:\n",
    "                return False\n",
    "        else:\n",
    "            t_map[ch2] = ch1\n",
    "    return True\n",
    "\n",
    "s = 'add'\n",
    "t = 'egg'\n",
    "print(isIsomorphic(s,t))\n",
    "\n",
    "s1 = 'paper'\n",
    "t1 = 'title'\n",
    "print(isIsomorphic(s1,t1))\n"
   ]
  },
  {
   "cell_type": "markdown",
   "id": "5fa53f07",
   "metadata": {},
   "source": [
    "#### rotate string, [leetcode-796]\n",
    "##### rotate the leftmost ch to one rightmost (end), and return true if it match to the string : goal"
   ]
  },
  {
   "cell_type": "code",
   "execution_count": null,
   "id": "f6e4f113",
   "metadata": {},
   "outputs": [
    {
     "name": "stdout",
     "output_type": "stream",
     "text": [
      "abcde\n"
     ]
    }
   ],
   "source": [
    "s = 'abcde'\n",
    "goal = 'cdeab'\n",
    "for i in range(len(s)):\n",
    "    rotated = s[:i] + s[i:]  \n",
    "print(rotated)"
   ]
  },
  {
   "cell_type": "code",
   "execution_count": null,
   "id": "0b724183",
   "metadata": {},
   "outputs": [
    {
     "name": "stdout",
     "output_type": "stream",
     "text": [
      "True\n"
     ]
    }
   ],
   "source": [
    "s = 'abcde'\n",
    "goal = 'cdeab' \n",
    "def isGaol(s,goal):\n",
    "    if len(s) != len(goal):\n",
    "        return False\n",
    "    if goal in s+s:\n",
    "        return True\n",
    "    \n",
    "print(isGaol(s,goal))\n",
    "# O(n^2) s- O(n) - more better"
   ]
  },
  {
   "cell_type": "code",
   "execution_count": 8,
   "id": "8cf0784c",
   "metadata": {},
   "outputs": [
    {
     "data": {
      "text/plain": [
       "True"
      ]
     },
     "execution_count": 8,
     "metadata": {},
     "output_type": "execute_result"
    }
   ],
   "source": [
    "def rotateString(s: str, goal: str) -> bool:\n",
    "    if len(s) != len(goal):\n",
    "        return False\n",
    "    \n",
    "\n",
    "    n = len(s)\n",
    "    for i in range(n):\n",
    "        rotated = s[i:] + s[:i]\n",
    "        if rotated == goal:\n",
    "            return True\n",
    "    return False\n",
    "s = 'abcde'\n",
    "goal = 'cdeab' \n",
    "rotateString(s,goal)"
   ]
  }
 ],
 "metadata": {
  "kernelspec": {
   "display_name": "base",
   "language": "python",
   "name": "python3"
  },
  "language_info": {
   "codemirror_mode": {
    "name": "ipython",
    "version": 3
   },
   "file_extension": ".py",
   "mimetype": "text/x-python",
   "name": "python",
   "nbconvert_exporter": "python",
   "pygments_lexer": "ipython3",
   "version": "3.12.7"
  }
 },
 "nbformat": 4,
 "nbformat_minor": 5
}
