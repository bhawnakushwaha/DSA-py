{
 "cells": [
  {
   "cell_type": "markdown",
   "id": "872d747f",
   "metadata": {},
   "source": [
    "#### list part 2"
   ]
  },
  {
   "cell_type": "markdown",
   "id": "dd7346b2",
   "metadata": {},
   "source": [
    "##### Buy sell stock [leetcode - 121]\n",
    "##### maximize profit "
   ]
  },
  {
   "cell_type": "code",
   "execution_count": 1,
   "id": "01341bb7",
   "metadata": {},
   "outputs": [
    {
     "name": "stdout",
     "output_type": "stream",
     "text": [
      "5\n"
     ]
    }
   ],
   "source": [
    "# optimize solution- tc O(n) and sc O(n)\n",
    "def maxProfit(prices):\n",
    "    min_price = float('inf')\n",
    "    max_profit = 0\n",
    "    for price in prices:\n",
    "        if price < min_price:\n",
    "            min_price = price\n",
    "        elif price - min_price > max_profit:\n",
    "            max_profit = price - min_price\n",
    "    return max_profit\n",
    "\n",
    "prices = [7,1,5,3,6,4]\n",
    "print(maxProfit(prices))"
   ]
  },
  {
   "cell_type": "markdown",
   "id": "467bc51e",
   "metadata": {},
   "source": [
    "##### maximum subarray sum [53]"
   ]
  },
  {
   "cell_type": "code",
   "execution_count": null,
   "id": "04e18afd",
   "metadata": {},
   "outputs": [
    {
     "name": "stdout",
     "output_type": "stream",
     "text": [
      "[1]\n",
      "[1, 2]\n",
      "[1, 2, 3]\n",
      "[2]\n",
      "[2, 3]\n",
      "[3]\n"
     ]
    }
   ],
   "source": [
    "# [first lets try]- to find the subarray - brute-full way \n",
    "nums = [1,2,3]\n",
    "n = len(nums)\n",
    "for i in range(n):\n",
    "    for j in range(i,n):\n",
    "        print(nums[i:j+1])\n"
   ]
  },
  {
   "cell_type": "code",
   "execution_count": 7,
   "id": "9822b7ce",
   "metadata": {},
   "outputs": [
    {
     "name": "stdout",
     "output_type": "stream",
     "text": [
      "6\n"
     ]
    }
   ],
   "source": [
    "nums = [-2,1,-3,4,-1,2,1,-5,4]\n",
    "def maxSum(nums):\n",
    "    n = len(nums)\n",
    "    max_sum = float('-inf')\n",
    "    for i in range(n):\n",
    "        curr_sum = 0\n",
    "        for j in range(i,n):\n",
    "            curr_sum += nums[j]\n",
    "            max_sum = max(max_sum, curr_sum)\n",
    "    return max_sum\n",
    "\n",
    "print(maxSum(nums))"
   ]
  },
  {
   "cell_type": "code",
   "execution_count": 8,
   "id": "beb035e8",
   "metadata": {},
   "outputs": [
    {
     "name": "stdout",
     "output_type": "stream",
     "text": [
      "7\n"
     ]
    }
   ],
   "source": [
    "# kadan's algorithm - more optimal solution, tc- o(n) and sc O(1)\n",
    "def maxSubArray(nums):\n",
    "    curr_sum = max_sum = nums[0]\n",
    "\n",
    "    for i in range(1,len(nums)):\n",
    "        curr_sum = max(nums[i], curr_sum + nums[i])\n",
    "        max_sum = max(max_sum, curr_sum)\n",
    "    return max_sum\n",
    "nums= [-2,-3,4,-1,-2,1,5,-3 ]\n",
    "print(maxSubArray(nums))"
   ]
  },
  {
   "cell_type": "code",
   "execution_count": 10,
   "id": "7cff5085",
   "metadata": {},
   "outputs": [
    {
     "name": "stdout",
     "output_type": "stream",
     "text": [
      "(7, [4, -1, -2, 1, 5])\n"
     ]
    }
   ],
   "source": [
    "# follow up- to print the subarray with max sum:-\n",
    "def maxSum(nums):\n",
    "    n = len(nums)\n",
    "\n",
    "    max_sum = curr_sum = 0\n",
    "    start = end = s = 0  # s= temp start\n",
    "\n",
    "    for i in range(1,n):\n",
    "        if nums[i] > curr_sum + nums[i]:\n",
    "            curr_sum = nums[i]\n",
    "            s = i\n",
    "        else:\n",
    "            curr_sum += nums[i]\n",
    "        \n",
    "\n",
    "        if curr_sum > max_sum:\n",
    "            max_sum = curr_sum\n",
    "            start = s\n",
    "            end = i\n",
    "    \n",
    "    return max_sum, nums[start:end+1]\n",
    "\n",
    "\n",
    "nums= [-2,-3,4,-1,-2,1,5,-3 ]\n",
    "print(maxSum(nums))"
   ]
  }
 ],
 "metadata": {
  "kernelspec": {
   "display_name": "base",
   "language": "python",
   "name": "python3"
  },
  "language_info": {
   "codemirror_mode": {
    "name": "ipython",
    "version": 3
   },
   "file_extension": ".py",
   "mimetype": "text/x-python",
   "name": "python",
   "nbconvert_exporter": "python",
   "pygments_lexer": "ipython3",
   "version": "3.12.7"
  }
 },
 "nbformat": 4,
 "nbformat_minor": 5
}
