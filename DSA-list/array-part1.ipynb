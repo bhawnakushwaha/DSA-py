{
 "cells": [
  {
   "cell_type": "markdown",
   "id": "fa3d4e5e",
   "metadata": {},
   "source": [
    "## list practice questions [Easy]"
   ]
  },
  {
   "cell_type": "markdown",
   "id": "7a574c98",
   "metadata": {},
   "source": [
    "##### find the largest element in the array "
   ]
  },
  {
   "cell_type": "code",
   "execution_count": 1,
   "id": "4cba83c4",
   "metadata": {},
   "outputs": [
    {
     "name": "stdout",
     "output_type": "stream",
     "text": [
      "8\n"
     ]
    }
   ],
   "source": [
    "# using brute force - the first approach \n",
    "arr = [3,4,2,8,6]\n",
    "arr.sort()\n",
    "print(arr[-1])"
   ]
  },
  {
   "cell_type": "code",
   "execution_count": 8,
   "id": "0d889f1a",
   "metadata": {},
   "outputs": [
    {
     "name": "stdout",
     "output_type": "stream",
     "text": [
      "8\n"
     ]
    }
   ],
   "source": [
    "# using more optimal sol\n",
    "arr2 = [3,4,2,8,6]\n",
    "def findLargest(arr):\n",
    "    largest = arr[0]\n",
    "    for num in arr2:\n",
    "        if num > largest:\n",
    "            largest = num \n",
    "    return largest \n",
    "\n",
    "print(findLargest(arr2))"
   ]
  },
  {
   "cell_type": "markdown",
   "id": "fbf703f6",
   "metadata": {},
   "source": [
    "### find 2nd largest element "
   ]
  },
  {
   "cell_type": "code",
   "execution_count": 10,
   "id": "4af06140",
   "metadata": {},
   "outputs": [
    {
     "name": "stdout",
     "output_type": "stream",
     "text": [
      "5\n"
     ]
    }
   ],
   "source": [
    "lst = [2,3,5,6,3]\n",
    "def findSecond(lst):\n",
    "    largest = lst[0]\n",
    "    for num in lst:\n",
    "        if num > largest:\n",
    "            largest = num\n",
    "\n",
    "    second = -1\n",
    "    for num in lst:\n",
    "        if num > second and num != largest:\n",
    "            second = num\n",
    "    return second\n",
    "\n",
    "print(findSecond(lst))    "
   ]
  },
  {
   "cell_type": "markdown",
   "id": "98f10799",
   "metadata": {},
   "source": [
    "### check array if sorted or not"
   ]
  },
  {
   "cell_type": "code",
   "execution_count": 12,
   "id": "ff179552",
   "metadata": {},
   "outputs": [
    {
     "name": "stdout",
     "output_type": "stream",
     "text": [
      "True\n"
     ]
    }
   ],
   "source": [
    "arr = [2,3,4,5,8]\n",
    "def checkSort(arr):\n",
    "    for i in range(1,len(arr)):\n",
    "        if arr[i] < arr[i-1]:\n",
    "            return False\n",
    "    return True  \n",
    "\n",
    "print(checkSort(arr))"
   ]
  },
  {
   "cell_type": "markdown",
   "id": "50735fdd",
   "metadata": {},
   "source": [
    "#### removing dublicates from the array"
   ]
  },
  {
   "cell_type": "code",
   "execution_count": null,
   "id": "1df7b70b",
   "metadata": {},
   "outputs": [
    {
     "name": "stdout",
     "output_type": "stream",
     "text": [
      "After removing duplicates from the array is:  [2, 3, 5, 4, 6, 7]\n"
     ]
    }
   ],
   "source": [
    "# using by creating a new space \n",
    "numbers = [2,3,5,2,4,6,7,5]\n",
    "temp = []\n",
    "for i in numbers:\n",
    "    if i not in temp:\n",
    "        temp.append(i)\n",
    "print(\"After removing duplicates from the array is: \", temp) "
   ]
  },
  {
   "cell_type": "code",
   "execution_count": 4,
   "id": "37a6ab5e",
   "metadata": {},
   "outputs": [
    {
     "name": "stdout",
     "output_type": "stream",
     "text": [
      "[2, 3, 4, 5, 6, 7]\n"
     ]
    }
   ],
   "source": [
    "ans = list(set(numbers))\n",
    "print(ans)"
   ]
  },
  {
   "cell_type": "code",
   "execution_count": 6,
   "id": "a2082552",
   "metadata": {},
   "outputs": [
    {
     "name": "stdout",
     "output_type": "stream",
     "text": [
      "[2, 3, 5, 4, 6, 7]\n"
     ]
    }
   ],
   "source": [
    "# now removing duplicates in-place ie no extra space, what so action have to perform, do it at the same place.\n",
    "for i in range(len(numbers)):\n",
    "    j = i + 1\n",
    "    while j < len(numbers):\n",
    "        if numbers[i] == numbers[j]:\n",
    "            numbers.pop(j)\n",
    "        else:\n",
    "            j += 1\n",
    "\n",
    "print(numbers)"
   ]
  },
  {
   "cell_type": "code",
   "execution_count": 7,
   "id": "8631d892",
   "metadata": {},
   "outputs": [
    {
     "name": "stdout",
     "output_type": "stream",
     "text": [
      "[2, 3, 4, 5, 6, 7]\n"
     ]
    }
   ],
   "source": [
    "# optimal solution - two pointer\n",
    "numbers.sort()\n",
    "i = 0\n",
    "for j in range(1,len(numbers)):\n",
    "    if numbers[i] != numbers[j]:\n",
    "        i += 1\n",
    "        numbers[i] = numbers[j]\n",
    "print(numbers)"
   ]
  },
  {
   "cell_type": "markdown",
   "id": "68172671",
   "metadata": {},
   "source": [
    "#### left rotate the array by one"
   ]
  },
  {
   "cell_type": "code",
   "execution_count": 8,
   "id": "d446c06d",
   "metadata": {},
   "outputs": [
    {
     "name": "stdout",
     "output_type": "stream",
     "text": [
      "[2, 4, 5, 6, 1]\n"
     ]
    }
   ],
   "source": [
    "arr = [1, 2, 4, 5, 6]\n",
    "n = len(arr)\n",
    "temp = arr[0]\n",
    "for i in range(1, n):\n",
    "    arr[i - 1] = arr[i]\n",
    "arr[n - 1] = temp\n",
    "print(arr) "
   ]
  },
  {
   "cell_type": "code",
   "execution_count": null,
   "id": "bee0f1f1",
   "metadata": {},
   "outputs": [
    {
     "name": "stdout",
     "output_type": "stream",
     "text": [
      "[6, 7, 8, 9, 2, 3, 4, 5]\n"
     ]
    }
   ],
   "source": [
    "# left rotate the array by d \n",
    "# brute force -> \n",
    "arr = [2,3,4,5,6,7,8,9]\n",
    "def rotate(arr,d):\n",
    "    n = len(arr)\n",
    "    d = d % n\n",
    "\n",
    "    temp = arr[:d]\n",
    "    for i in range(d,n):\n",
    "        arr[i-d] = arr[i]\n",
    "    for i in range(n-d, n):\n",
    "        arr[i] = temp[i-(n-d)]\n",
    "    return arr\n",
    "\n",
    "print(rotate(arr,4))"
   ]
  },
  {
   "cell_type": "code",
   "execution_count": 8,
   "id": "6a795d58",
   "metadata": {},
   "outputs": [
    {
     "name": "stdout",
     "output_type": "stream",
     "text": [
      "[4, 5, 6, 1, 2, 3]\n"
     ]
    }
   ],
   "source": [
    "# optimal solution \n",
    "arr = [1,2,3,4,5,6]\n",
    "def reverse(arr,start,end):\n",
    "    while start < end:\n",
    "        arr[start],arr[end] = arr[end], arr[start]\n",
    "        start +=1\n",
    "        end -=1\n",
    "def rotate(arr,d):\n",
    "    n = len(arr)\n",
    "    d = d % n\n",
    "\n",
    "    reverse(arr, 0, d-1)\n",
    "    reverse(arr, d, n-1)\n",
    "    reverse(arr,0,n-1)\n",
    "\n",
    "    return arr\n",
    "\n",
    "print(rotate(arr,3))"
   ]
  },
  {
   "cell_type": "code",
   "execution_count": null,
   "id": "f4a6e4a0",
   "metadata": {},
   "outputs": [
    {
     "name": "stdout",
     "output_type": "stream",
     "text": [
      "[5, 6, 7, 1, 2, 3, 4]\n"
     ]
    }
   ],
   "source": [
    "# rotate right by k - \n",
    "# optimal solution \n",
    "\n",
    "def reverse(nums, start, end):\n",
    "    while start < end:\n",
    "        nums[start], nums[end] = nums[end], nums[start]\n",
    "        start += 1\n",
    "        end -= 1\n",
    "\n",
    "def rotate(nums, k):\n",
    "    n = len(nums)\n",
    "    k %= n  # Handle cases where k > n\n",
    "\n",
    "    reverse(nums, 0, n - 1)    # Reverse entire array\n",
    "    reverse(nums, 0, k - 1)    # Reverse first k elements\n",
    "    reverse(nums, k, n - 1)    # Reverse the rest\n",
    "    return nums\n",
    "\n",
    "nums = [1,2,3,4,5,6,7]\n",
    "print(rotate(nums,3))"
   ]
  },
  {
   "cell_type": "code",
   "execution_count": 6,
   "id": "9b17b8c8",
   "metadata": {},
   "outputs": [
    {
     "name": "stdout",
     "output_type": "stream",
     "text": [
      "[5, 6, 7, 1, 2, 3, 4]\n"
     ]
    }
   ],
   "source": [
    "# by using slicing - \n",
    "\n",
    "nums = [1,2,3,4,5,6,7]\n",
    "def  rotate(nums, k):\n",
    "    nums[:] = nums[-k:] + nums[:-k]\n",
    "    return nums\n",
    "\n",
    "print(rotate(nums,3))"
   ]
  },
  {
   "cell_type": "markdown",
   "id": "80da85c1",
   "metadata": {},
   "source": [
    "#### union of two sorted array"
   ]
  },
  {
   "cell_type": "code",
   "execution_count": 16,
   "id": "4eff840d",
   "metadata": {},
   "outputs": [
    {
     "name": "stdout",
     "output_type": "stream",
     "text": [
      "[1, 2, 3, 4, 5, 6]\n"
     ]
    }
   ],
   "source": [
    "arr1 = [1,3,4,5]\n",
    "arr2 = [2,3,4,5,6]\n",
    "def union(arr1,arr2):\n",
    "    ans = set(arr1).union(set(arr2))\n",
    "    return sorted(list(ans))\n",
    "print(union(arr1, arr2))"
   ]
  },
  {
   "cell_type": "code",
   "execution_count": 9,
   "id": "0880421d",
   "metadata": {},
   "outputs": [
    {
     "name": "stdout",
     "output_type": "stream",
     "text": [
      "[1, 2, 3, 4, 5, 6]\n"
     ]
    }
   ],
   "source": [
    "# optimal approach - two pointer approach.\n",
    "arr1 = [1,3,4,5]\n",
    "arr2 = [2,3,4,5,6]\n",
    "def union(arr1, arr2):\n",
    "    n, m = len(arr1) , len(arr2)\n",
    "    i = j = 0\n",
    "    result = []\n",
    "\n",
    "    while i < n and j < m:\n",
    "        if arr1[i] < arr2[j]:\n",
    "            if not result or result[-1] != arr1[i]:               \n",
    "                result.append(arr1[i])\n",
    "            i += 1\n",
    "        elif arr1[i] > arr2[j]:\n",
    "            if not result or result[-1] != arr2[j]:\n",
    "                result.append(arr2[j])\n",
    "            j += 1\n",
    "        else:\n",
    "            if not result or result[-1] != arr1[i]:\n",
    "                result.append(arr1[i])\n",
    "            i += 1\n",
    "            j += 1\n",
    "\n",
    "    while i < n:\n",
    "        if result[-1] != arr1[i]:\n",
    "            result.append(arr1[i])\n",
    "        i += 1\n",
    "    while j < m:\n",
    "        if result[-1] != arr2[j]:\n",
    "            result.append(arr2[j])\n",
    "        j += 1\n",
    "\n",
    "    return result\n",
    "\n",
    "print(union(arr1, arr2))"
   ]
  },
  {
   "cell_type": "markdown",
   "id": "822200d7",
   "metadata": {},
   "source": [
    "### missing number find in number 1 to n "
   ]
  },
  {
   "cell_type": "markdown",
   "id": "e2755dc4",
   "metadata": {},
   "source": [
    "##### Given an array nums containing n distinct numbers in the range [0, n], return the only number in the range that is missing from the array. [Leetcode- 268]"
   ]
  },
  {
   "cell_type": "code",
   "execution_count": null,
   "id": "afc15e33",
   "metadata": {},
   "outputs": [
    {
     "name": "stdout",
     "output_type": "stream",
     "text": [
      "1\n"
     ]
    }
   ],
   "source": [
    "# brute solution with TC = O(n^2) SC = O(1)\n",
    "nums = [3,0,2]\n",
    "def missingNumberBrute(nums):\n",
    "    n = len(nums)\n",
    "    for i in range(n + 1):\n",
    "        found = False\n",
    "        for num in nums:\n",
    "            if num == i:\n",
    "                found = True\n",
    "                break\n",
    "        if not found:\n",
    "            return i\n",
    "print(missingNumberBrute(nums))"
   ]
  },
  {
   "cell_type": "code",
   "execution_count": 3,
   "id": "c6a93d0a",
   "metadata": {},
   "outputs": [
    {
     "name": "stdout",
     "output_type": "stream",
     "text": [
      "1\n"
     ]
    }
   ],
   "source": [
    "# using - hashing : tc = O(n) sc = O(n)\n",
    "nums = [3,0,2]\n",
    "def missingNumberSet(nums):\n",
    "    num_set = set(nums)\n",
    "    for i in range(len(nums) + 1):\n",
    "        if i not in num_set:\n",
    "            return i\n",
    "print(missingNumberSet(nums))"
   ]
  },
  {
   "cell_type": "code",
   "execution_count": 4,
   "id": "4b027076",
   "metadata": {},
   "outputs": [
    {
     "name": "stdout",
     "output_type": "stream",
     "text": [
      "1\n"
     ]
    }
   ],
   "source": [
    "# the optimal solution - tc = O(n) sc = O(1)\n",
    "nums = [3,0,2]\n",
    "def missingNumberOptimal(nums):\n",
    "    n = len(nums)\n",
    "    expected_sum = n * (n + 1) // 2\n",
    "    actual_sum = sum(nums)\n",
    "    return expected_sum - actual_sum\n",
    "print(missingNumberOptimal(nums))"
   ]
  },
  {
   "cell_type": "markdown",
   "id": "014685cf",
   "metadata": {},
   "source": [
    "#### maximum consecutive ones [Leetcode - 485] "
   ]
  },
  {
   "cell_type": "code",
   "execution_count": null,
   "id": "63179fd2",
   "metadata": {},
   "outputs": [
    {
     "name": "stdout",
     "output_type": "stream",
     "text": [
      "3\n"
     ]
    }
   ],
   "source": [
    "nums = [1,0,1,1,0,1,1,1,0]\n",
    "def MaxConsecutiveOnes(nums):\n",
    "    max_count = 0\n",
    "    current_count = 0\n",
    "\n",
    "    for num in nums:\n",
    "        if num == 1:\n",
    "            current_count += 1\n",
    "            max_count = max(max_count, current_count)\n",
    "        else:\n",
    "            current_count = 0\n",
    "\n",
    "    return max_count\n",
    "print(MaxConsecutiveOnes(nums))\n",
    "# tc = O(n) sc = O(1)"
   ]
  },
  {
   "cell_type": "markdown",
   "id": "e0bd9883",
   "metadata": {},
   "source": [
    "#### find a number that appears only ones from a given list, while other nummber appears twice "
   ]
  },
  {
   "cell_type": "code",
   "execution_count": 8,
   "id": "17a6603a",
   "metadata": {},
   "outputs": [
    {
     "name": "stdout",
     "output_type": "stream",
     "text": [
      "2\n"
     ]
    }
   ],
   "source": [
    "# brute force sol. tc = O(n^2) sc = O(1)\n",
    "nums = [3,2,4,3,4]\n",
    "def singleNum(nums):\n",
    "    for i in nums:\n",
    "        count = 0\n",
    "        for j in nums:\n",
    "            if i == j:\n",
    "                count += 1\n",
    "        if count == 1:\n",
    "            return i\n",
    "print(singleNum(nums))"
   ]
  },
  {
   "cell_type": "code",
   "execution_count": 9,
   "id": "f56084af",
   "metadata": {},
   "outputs": [
    {
     "name": "stdout",
     "output_type": "stream",
     "text": [
      "2\n"
     ]
    }
   ],
   "source": [
    "# using hashmap - more optimal: tc = O(n), sc = O(n)\n",
    "nums = [3,2,4,3,4]\n",
    "def singleNumHashMap(nums):\n",
    "    freq = {}\n",
    "    for num in nums:\n",
    "        freq[num] = freq.get(num, 0) + 1\n",
    "    \n",
    "    for num in freq:\n",
    "        if freq[num] == 1:\n",
    "            return num\n",
    "        \n",
    "print(singleNumHashMap(nums))"
   ]
  },
  {
   "cell_type": "code",
   "execution_count": 10,
   "id": "da3a0797",
   "metadata": {},
   "outputs": [
    {
     "name": "stdout",
     "output_type": "stream",
     "text": [
      "2\n"
     ]
    }
   ],
   "source": [
    "# optimal solution - using XOR tc = O(n) sc = O(1)\n",
    "nums = [3,2,4,3,4]\n",
    "def singleNumber(nums):\n",
    "    result = 0\n",
    "    for num in nums:\n",
    "        result ^= num\n",
    "    return result\n",
    "print(singleNumber(nums))"
   ]
  },
  {
   "cell_type": "markdown",
   "id": "05a20e96",
   "metadata": {},
   "source": [
    "#### longest subarray with giving sum k (all positive)"
   ]
  },
  {
   "cell_type": "code",
   "execution_count": 16,
   "id": "24bb6a42",
   "metadata": {},
   "outputs": [
    {
     "name": "stdout",
     "output_type": "stream",
     "text": [
      "3\n"
     ]
    }
   ],
   "source": [
    "# brute force = tc ~= O(n^3) sc = O(1)\n",
    "nums = [0,1,2,1,3,0]\n",
    "def longestSubarray(arr, k):\n",
    "    n = len(arr)\n",
    "    max_len = 0\n",
    "\n",
    "    for i in range(n):\n",
    "        current_sum = 0\n",
    "        for j in range(i, n):\n",
    "            current_sum += arr[j]\n",
    "            if current_sum == k:\n",
    "                max_len = max(max_len, j - i + 1)\n",
    "\n",
    "    return max_len\n",
    "\n",
    "print(longestSubarray(nums, 3))"
   ]
  },
  {
   "cell_type": "code",
   "execution_count": 18,
   "id": "5a2be474",
   "metadata": {},
   "outputs": [
    {
     "name": "stdout",
     "output_type": "stream",
     "text": [
      "3\n"
     ]
    }
   ],
   "source": [
    "# using prefix sum and hash map - tc = O(n) sc = O(n)\n",
    "nums = [0,1,2,1,3,0]\n",
    "def longest_subarray(arr, k):\n",
    "    prefix_sum_indices = {}\n",
    "    current_sum = 0\n",
    "    max_len = 0\n",
    "\n",
    "    for i in range(len(arr)):\n",
    "        current_sum += arr[i]\n",
    "\n",
    "        if current_sum == k:\n",
    "            max_len = i + 1\n",
    "\n",
    "        if (current_sum - k) in prefix_sum_indices:\n",
    "            length = i - prefix_sum_indices[current_sum - k]\n",
    "            max_len = max(max_len, length)\n",
    "\n",
    "        if current_sum not in prefix_sum_indices:\n",
    "            prefix_sum_indices[current_sum] = i\n",
    "\n",
    "    return max_len\n",
    "print(longest_subarray(nums, 3))\n"
   ]
  },
  {
   "cell_type": "code",
   "execution_count": 19,
   "id": "a8a39a19",
   "metadata": {},
   "outputs": [
    {
     "name": "stdout",
     "output_type": "stream",
     "text": [
      "(3, [0, 1, 2])\n"
     ]
    }
   ],
   "source": [
    "\n",
    "nums = [0,1,2,1,3,0]\n",
    "def longestsubarray(arr, k):\n",
    "    n = len(arr)\n",
    "    max_len = 0\n",
    "    start_index = -1\n",
    "    end_index = -1\n",
    "\n",
    "    for i in range(n):\n",
    "        current_sum = 0\n",
    "        for j in range(i, n):\n",
    "            current_sum += arr[j]\n",
    "            if current_sum == k:\n",
    "                if j - i + 1 > max_len:\n",
    "                    max_len = j - i + 1\n",
    "                    start_index = i\n",
    "                    end_index = j\n",
    "\n",
    "    # Return both length and subarray (if found)\n",
    "    if start_index != -1:\n",
    "        return max_len, arr[start_index:end_index+1]\n",
    "    else:\n",
    "        return 0, []\n",
    "print(longestsubarray(nums,3))"
   ]
  },
  {
   "cell_type": "markdown",
   "id": "1a20ba46",
   "metadata": {},
   "source": [
    "#### longest subarray with sum k - [positive + negative + 0]"
   ]
  },
  {
   "cell_type": "code",
   "execution_count": 20,
   "id": "811172b2",
   "metadata": {},
   "outputs": [
    {
     "name": "stdout",
     "output_type": "stream",
     "text": [
      "(3, [0, 1, 2])\n"
     ]
    }
   ],
   "source": [
    "nums = [0,1,2,1,3,0]\n",
    "def longest_subarray_whole(arr, k):\n",
    "    prefix_sum_map = {}\n",
    "    current_sum = 0\n",
    "    max_len = 0\n",
    "    start_index = -1\n",
    "    end_index = -1\n",
    "\n",
    "    for i in range(len(arr)):\n",
    "        current_sum += arr[i]\n",
    "\n",
    "        if current_sum == k:\n",
    "            max_len = i + 1\n",
    "            start_index = 0\n",
    "            end_index = i\n",
    "\n",
    "        if (current_sum - k) in prefix_sum_map:\n",
    "            prev_index = prefix_sum_map[current_sum - k]\n",
    "            if i - prev_index > max_len:\n",
    "                max_len = i - prev_index\n",
    "                start_index = prev_index + 1\n",
    "                end_index = i\n",
    "\n",
    "        # Only store the first occurrence of current_sum\n",
    "        if current_sum not in prefix_sum_map:\n",
    "            prefix_sum_map[current_sum] = i\n",
    "\n",
    "    if max_len > 0:\n",
    "        return max_len, arr[start_index:end_index+1]\n",
    "    else:\n",
    "        return 0, []\n",
    "print(longest_subarray_whole(nums,3))"
   ]
  },
  {
   "cell_type": "markdown",
   "id": "c2abaec0",
   "metadata": {},
   "source": [
    "#### set matrix zero "
   ]
  },
  {
   "cell_type": "code",
   "execution_count": null,
   "id": "897f35db",
   "metadata": {},
   "outputs": [
    {
     "name": "stdout",
     "output_type": "stream",
     "text": [
      "[[0, 0, 3], [0, 0, 0], [0, 0, 0]]\n"
     ]
    }
   ],
   "source": [
    "# Brute force sol -- tc= O(mxn x (m+n)) ~= O(n^3) i.e (m+n) is for marking row,col / and -- sc = O(1)\n",
    "def setZeroes(matrix):\n",
    "    m, n = len(matrix), len(matrix[0])\n",
    "\n",
    "    # First pass: mark affected cells as -1 (if not already 0)\n",
    "    for i in range(m):\n",
    "        for j in range(n):\n",
    "            if matrix[i][j] == 0:\n",
    "                # mark row\n",
    "                for k in range(n):\n",
    "                    if matrix[i][k] != 0 and matrix[i][k] != -1:\n",
    "                        matrix[i][k] = -1\n",
    "                # mark column\n",
    "                for k in range(m):\n",
    "                    if matrix[k][j] != 0 and matrix[k][j] != -1:\n",
    "                        matrix[k][j] = -1\n",
    "\n",
    "    # Second pass: change all -1 to 0\n",
    "    for i in range(m):\n",
    "        for j in range(n):\n",
    "            if matrix[i][j] == -1:\n",
    "                matrix[i][j] = 0\n",
    "\n",
    "matrix = [\n",
    "    [1,2,3],\n",
    "    [1,0,2],\n",
    "    [0,1,2]\n",
    "]\n",
    "setZeroes(matrix)\n",
    "print(matrix)\n"
   ]
  },
  {
   "cell_type": "code",
   "execution_count": 4,
   "id": "594acf3e",
   "metadata": {},
   "outputs": [
    {
     "name": "stdout",
     "output_type": "stream",
     "text": [
      "[[0, 0, 3], [0, 0, 0], [0, 0, 0]]\n"
     ]
    }
   ],
   "source": [
    "# better solution - \n",
    "# First pass: record all row indices and column indices that contain 0 into two sets.\n",
    "# Second pass: set all elements in those rows and columns to 0.\n",
    "# t.c = O(n^2)\n",
    "\n",
    "def setZeroes(matrix):\n",
    "    m, n = len(matrix), len(matrix[0])\n",
    "    rows = set()\n",
    "    cols = set()\n",
    "\n",
    "    # First pass: collect rows and columns with zeros\n",
    "    for i in range(m):\n",
    "        for j in range(n):\n",
    "            if matrix[i][j] == 0:\n",
    "                rows.add(i)\n",
    "                cols.add(j)\n",
    "\n",
    "    # Second pass: set to 0 if in recorded row or column\n",
    "    for i in range(m):\n",
    "        for j in range(n):\n",
    "            if i in rows or j in cols:\n",
    "                matrix[i][j] = 0\n",
    "\n",
    "matrix = [\n",
    "    [1,2,3],\n",
    "    [1,0,2],\n",
    "    [0,1,2]\n",
    "]\n",
    "setZeroes(matrix)\n",
    "print(matrix)"
   ]
  },
  {
   "cell_type": "code",
   "execution_count": 5,
   "id": "328be050",
   "metadata": {},
   "outputs": [
    {
     "name": "stdout",
     "output_type": "stream",
     "text": [
      "[[0, 0, 3], [0, 0, 0], [0, 0, 0]]\n"
     ]
    }
   ],
   "source": [
    "# optimized solution - tc = O(m+n) sc = O(1) -> in place\n",
    "def setZeros(matrix):\n",
    "    m, n = len(matrix), len(matrix[0])\n",
    "    firstZeroCol = False\n",
    "    \n",
    "    # First pass: use first row & column as markers\n",
    "    for i in range(m):\n",
    "        if matrix[i][0] == 0:\n",
    "            firstZeroCol = True\n",
    "        for j in range(1,n):\n",
    "            if matrix[i][j] == 0:\n",
    "                matrix[i][0] = 0\n",
    "                matrix[0][j] = 0\n",
    "\n",
    "    # second pass: set zeros using marker\n",
    "    for i in range(1,m):\n",
    "        for j in range(1,n):\n",
    "            if matrix[i][0] == 0 or matrix[0][j] == 0:\n",
    "                matrix[i][j] = 0\n",
    "    \n",
    "    # handle first row\n",
    "    if matrix[0][0] == 0:\n",
    "        for j in range(n):\n",
    "            matrix[0][j] = 0\n",
    "    \n",
    "    # handle first zero column\n",
    "    if firstZeroCol:\n",
    "        for i in range(m):\n",
    "            matrix[i][0] = 0\n",
    "\n",
    "matrix = [\n",
    "    [1,2,3],\n",
    "    [1,0,2],\n",
    "    [0,1,2]\n",
    "]\n",
    "setZeroes(matrix)\n",
    "print(matrix)"
   ]
  },
  {
   "cell_type": "markdown",
   "id": "fb03edf2",
   "metadata": {},
   "source": [
    "#### pascal's Triangle\n",
    "### In Pascal's triangle, each number is the sum of the two numbers directly above it as shown:"
   ]
  },
  {
   "cell_type": "markdown",
   "id": "432fb0fb",
   "metadata": {},
   "source": [
    "#### Given an integer numRows, return the first numRows of Pascal's triangle."
   ]
  },
  {
   "cell_type": "code",
   "execution_count": 1,
   "id": "e8df0505",
   "metadata": {},
   "outputs": [
    {
     "name": "stdout",
     "output_type": "stream",
     "text": [
      "[[1], [1, 1], [1, 2, 1], [1, 3, 3, 1], [1, 4, 6, 4, 1]]\n"
     ]
    }
   ],
   "source": [
    "\n",
    "def generate(numRows):\n",
    "    triangle = []\n",
    "\n",
    "    for i in range(numRows):\n",
    "        row = [1]\n",
    "        if i > 0:\n",
    "            prev_row = triangle[i-1]\n",
    "\n",
    "            for j in range(1,i):\n",
    "                val = prev_row[j-1] + prev_row[j]\n",
    "                row.append(val)\n",
    "            row.append(1)\n",
    "        triangle.append(row)\n",
    "\n",
    "    return triangle\n",
    "\n",
    "\n",
    "print(generate(5))"
   ]
  },
  {
   "cell_type": "markdown",
   "id": "4e5a15b4",
   "metadata": {},
   "source": [
    "#### given row and column find the element present at that position in pascal's triangle"
   ]
  },
  {
   "cell_type": "code",
   "execution_count": null,
   "id": "94c18d66",
   "metadata": {},
   "outputs": [
    {
     "name": "stdout",
     "output_type": "stream",
     "text": [
      "6\n"
     ]
    }
   ],
   "source": [
    "triangle = [[1], [1, 1], [1, 2, 1], [1, 3, 3, 1], [1, 4, 6, 4, 1]]\n",
    "def findElement(row, col):\n",
    "    def factorial(n):\n",
    "        result = 1\n",
    "        for i in range(2, n+1):\n",
    "            result *= i\n",
    "        return result\n",
    "\n",
    "    def pascal_element(row, col):\n",
    "        if col < 0 or col > row:\n",
    "            return 0\n",
    "        return factorial(row) // (factorial(col) * factorial(row - col))\n",
    "    return pascal_element(row, col)\n",
    "\n",
    "print(findElement(4,2))\n",
    "# pascal triangle is based on indexes, so it works with row,cols indices "
   ]
  },
  {
   "cell_type": "markdown",
   "id": "7df0b6b8",
   "metadata": {},
   "source": [
    "#### find the elements of a row - directly without printing the whole pascal triangle"
   ]
  },
  {
   "cell_type": "code",
   "execution_count": null,
   "id": "9cd83fc7",
   "metadata": {},
   "outputs": [
    {
     "name": "stdout",
     "output_type": "stream",
     "text": [
      "[1, 4, 6, 4, 1]\n"
     ]
    }
   ],
   "source": [
    "def find_row(row):\n",
    "    def factorial(n):\n",
    "            result = 1\n",
    "            for i in range(2, n + 1):\n",
    "                result *= i\n",
    "            return result\n",
    "\n",
    "    def get_pascal_row(row):\n",
    "        result = []\n",
    "        for col in range(row + 1):\n",
    "            numerator = factorial(row)\n",
    "            denominator = factorial(col) * factorial(row - col)\n",
    "            value = numerator // denominator\n",
    "            result.append(value)\n",
    "        return result\n",
    "    return get_pascal_row(row)\n",
    "\n",
    "print(find_row(4))\n"
   ]
  },
  {
   "cell_type": "markdown",
   "id": "be87dd20",
   "metadata": {},
   "source": [
    "#### two sum [leetcode - 1]\n",
    "##### Given an array of integers nums and an integer target, return indices of the two numbers such that they add up to target."
   ]
  },
  {
   "cell_type": "code",
   "execution_count": null,
   "id": "ed1e8c03",
   "metadata": {},
   "outputs": [
    {
     "name": "stdout",
     "output_type": "stream",
     "text": [
      "[0, 1]\n"
     ]
    }
   ],
   "source": [
    "def twoSum(nums, target):\n",
    "    hash_map = {}\n",
    "\n",
    "    for i, num in enumerate(nums):\n",
    "        complement = target - num\n",
    "        if complement in hash_map:\n",
    "            return [hash_map[complement], i]\n",
    "        hash_map[num] = i\n",
    "    return []           \n",
    "        \n",
    "nums = [2,7,11,5]\n",
    "target = 9\n",
    "print(twoSum(nums, target))\n",
    "\n",
    "# tc = O(n) ,sc = O(n) - using hash map."
   ]
  },
  {
   "cell_type": "markdown",
   "id": "3b9965cd",
   "metadata": {},
   "source": [
    "##### Sort colours- [75]\n",
    "##### three colors, red - represesnted by 0, white - 1, blue - 2: sort the colours in the order so that the same color are adjacent, in place. \n",
    "#### Dutch National Flag algorithm. "
   ]
  },
  {
   "cell_type": "code",
   "execution_count": null,
   "id": "d7bbb459",
   "metadata": {},
   "outputs": [
    {
     "name": "stdout",
     "output_type": "stream",
     "text": [
      "[0, 0, 0, 0, 1, 1, 1, 2, 2]\n"
     ]
    }
   ],
   "source": [
    "# using Dutch national flag algo, array in place sorting algorithm \n",
    "# have three pointers - low, mid, high. \n",
    "\n",
    "def sortColors(nums):\n",
    "    low, mid, high = 0, 0, len(nums) - 1\n",
    "    \n",
    "    while mid <= high:\n",
    "        if nums[mid] == 0:\n",
    "            nums[low], nums[mid] = nums[mid], nums[low]\n",
    "            low += 1\n",
    "            mid += 1\n",
    "        elif nums[mid] == 1:\n",
    "            mid += 1\n",
    "        else:  # nums[mid] == 2\n",
    "            nums[mid], nums[high] = nums[high], nums[mid]\n",
    "            high -= 1\n",
    "    return nums\n",
    "\n",
    "nums = [0,1,1,0,2,0,1,2,0]\n",
    "print(sortColors(nums))\n",
    "\n",
    "# tc = O(n) , sc = O(1)"
   ]
  }
 ],
 "metadata": {
  "kernelspec": {
   "display_name": "base",
   "language": "python",
   "name": "python3"
  },
  "language_info": {
   "codemirror_mode": {
    "name": "ipython",
    "version": 3
   },
   "file_extension": ".py",
   "mimetype": "text/x-python",
   "name": "python",
   "nbconvert_exporter": "python",
   "pygments_lexer": "ipython3",
   "version": "3.12.7"
  }
 },
 "nbformat": 4,
 "nbformat_minor": 5
}
